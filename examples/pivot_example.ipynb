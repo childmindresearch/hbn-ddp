{
    "cells": [
        {
            "cell_type": "markdown",
            "metadata": {},
            "source": [
                "## import"
            ]
        },
        {
            "cell_type": "code",
            "execution_count": 1,
            "metadata": {},
            "outputs": [],
            "source": [
                "from hbnpreprocess.hbn_data import HBNData"
            ]
        },
        {
            "cell_type": "markdown",
            "metadata": {},
            "source": [
                "## initialize with the HBN dataset"
            ]
        },
        {
            "cell_type": "code",
            "execution_count": 2,
            "metadata": {},
            "outputs": [
                {
                    "name": "stdout",
                    "output_type": "stream",
                    "text": [
                        "Diagnoses in dataset:\n",
                        "ADHD-Combined Type\n",
                        "ADHD-Hyperactive/Impulsive Type\n",
                        "ADHD-Inattentive Type\n",
                        "Acute Stress Disorder\n",
                        "Adjustment Disorders\n",
                        "Agoraphobia\n",
                        "Alcohol Use Disorder\n",
                        "Anorexia Nervosa-Binge Eating/Purging Type\n",
                        "Anorexia Nervosa-Restricting Type\n",
                        "Autism Spectrum Disorder\n",
                        "Avoidant/Restrictive Food Intake Disorder\n",
                        "Binge-Eating Disorder\n",
                        "Bipolar I Disorder\n",
                        "Bipolar II Disorder\n",
                        "Body Dysmorphic Disorder\n",
                        "Borderline Intellectual Functioning\n",
                        "Borderline Personality Disorder\n",
                        "Bulimia Nervosa\n",
                        "Cannabis Use Disorder\n",
                        "Child Neglect, Suspected\n",
                        "Child Onset Fluency Disorder (Stuttering)\n",
                        "Conduct Disorder-Adolescent-onset type\n",
                        "Conduct Disorder-Childhood-onset type\n",
                        "Conduct Disorder-Unspecified onset\n",
                        "Conversion Disorder\n",
                        "Cyclothymic Disorder\n",
                        "Delirium due to another medical condition\n",
                        "Delirium due to multiple etiologies\n",
                        "Depressive Disorder Due to Another Medical Condition\n",
                        "Developmental Coordination Disorder\n",
                        "Disinhibited Social Engagement Disorder\n",
                        "Disruptive Mood Dysregulation Disorder\n",
                        "Encopresis\n",
                        "Enuresis\n",
                        "Excoriation (Skin-Picking) Disorder\n",
                        "Gender Dysphoria in Adolescents and Adults\n",
                        "Gender Dysphoria in Children\n",
                        "Generalized Anxiety Disorder\n",
                        "Hoarding Disorder\n",
                        "Illness Anxiety Disorder\n",
                        "Insomnia Disorder\n",
                        "Intellectual Disability-Mild\n",
                        "Intellectual Disability-Moderate\n",
                        "Intellectual Disability-Severe\n",
                        "Intermittent Explosive Disorder\n",
                        "Language Disorder\n",
                        "Major Depressive Disorder\n",
                        "Major Neurocognitive Disorder Due to Epilepsy\n",
                        "Narcolepsy\n",
                        "Neurobehavioral Disorder Associated with Prenatal Alcohol Exposure (ND-PAE)\n",
                        "Non-Rapid Eye Movement Sleep Arousal Disorders\n",
                        "Obsessive-Compulsive Disorder\n",
                        "Oppositional Defiant Disorder\n",
                        "Other (or Unknown) Substance Use Disorder\n",
                        "Other (or Unknown) Substance-Induced Disorders\n",
                        "Other Specified Anxiety Disorder\n",
                        "Other Specified Attention-Deficit/Hyperactivity Disorder\n",
                        "Other Specified Bipolar and Related Disorder\n",
                        "Other Specified Depressive Disorder\n",
                        "Other Specified Disruptive, Impulse-Control, and Conduct Disorder\n",
                        "Other Specified Elimination Disorder with Fecal Symptoms\n",
                        "Other Specified Elimination Disorder with Urinary Symptoms\n",
                        "Other Specified Feeding or Eating Disorder\n",
                        "Other Specified Insomnia Disorder\n",
                        "Other Specified Neurodevelopmental Disorder\n",
                        "Other Specified Obsessive-Compulsive and Related Disorder\n",
                        "Other Specified Schizophrenia Spectrum and Other Psychotic Disorder\n",
                        "Other Specified Tic Disorder\n",
                        "Other Specified Trauma- and Stressor-Related Disorder\n",
                        "Panic Disorder\n",
                        "Parent-Child Relational Problem\n",
                        "Persistent (Chronic) Motor or Vocal Tic Disorder\n",
                        "Persistent Depressive Disorder (Dysthymia)\n",
                        "Pica in Children\n",
                        "Posttraumatic Stress Disorder\n",
                        "Provisional Tic Disorder\n",
                        "Reactive Attachment Disorder\n",
                        "Schizophrenia\n",
                        "Selective Mutism\n",
                        "Separation Anxiety\n",
                        "Sibling Relational Problem\n",
                        "Social (Pragmatic) Communication Disorder\n",
                        "Social Anxiety (Social Phobia)\n",
                        "Somatic Symptom Disorder\n",
                        "Specific Learning Disorder with Impairment in Mathematics\n",
                        "Specific Learning Disorder with Impairment in Reading\n",
                        "Specific Learning Disorder with Impairment in Written Expression\n",
                        "Specific Phobia\n",
                        "Speech Sound Disorder\n",
                        "Substance/Medication-Induced Bipolar and Related Disorder\n",
                        "Substance/Medication-Induced Depressive Disorder\n",
                        "Tobacco Use Disorder\n",
                        "Tourettes Disorder\n",
                        "Trichotillomania (Hair-Pulling Disorder)\n",
                        "Unspecified Anxiety Disorder\n",
                        "Unspecified Attention-Deficit/Hyperactivity Disorder\n",
                        "Unspecified Bipolar and Related Disorder\n",
                        "Unspecified Depressive Disorder\n",
                        "Unspecified Feeding or Eating Disorder\n",
                        "Unspecified Intellectual Disability\n",
                        "Unspecified Neurodevelopmental Disorder\n",
                        "Unspecified Tic Disorder\n",
                        "Unspecified Trauma- and Stressor-Related Disorder\n",
                        "Data saved in ../data/HBN_data_preprocessed.csv\n"
                    ]
                }
            ],
            "source": [
                "processed = HBNData().process(\n",
                "    # change to path to HBN dataset\n",
                "    input_path=\"../data/HBN_data_cleaned.csv\",\n",
                "    # change to desired output path\n",
                "    output_path=\"../data/HBN_data_preprocessed.csv\",\n",
                "    # pivot on diagnoses, subcategories, categories or all\n",
                "    by=\"diagnoses\",\n",
                "    # add certainty filter if desired\n",
                "    time_filter=None,\n",
                "    certainty_filter=None,\n",
                ")"
            ]
        }
    ],
    "metadata": {
        "kernelspec": {
            "display_name": "hbn-preprocess-Wwijhef5-py3.11",
            "language": "python",
            "name": "python3"
        },
        "language_info": {
            "codemirror_mode": {
                "name": "ipython",
                "version": 3
            },
            "file_extension": ".py",
            "mimetype": "text/x-python",
            "name": "python",
            "nbconvert_exporter": "python",
            "pygments_lexer": "ipython3",
            "version": "3.11.2"
        }
    },
    "nbformat": 4,
    "nbformat_minor": 2
}
