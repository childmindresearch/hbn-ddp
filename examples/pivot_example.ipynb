{
    "cells": [
        {
            "cell_type": "markdown",
            "metadata": {},
            "source": [
                "## import"
            ]
        },
        {
            "cell_type": "code",
            "execution_count": 1,
            "metadata": {},
            "outputs": [],
            "source": [
                "from hbnpreprocess.hbn_data import HBNData"
            ]
        },
        {
            "cell_type": "markdown",
            "metadata": {},
            "source": [
                "## initialize with the HBN dataset"
            ]
        },
        {
            "cell_type": "code",
            "execution_count": null,
            "metadata": {},
            "outputs": [],
            "source": [
                "processed = HBNData.process(\n",
                "    # change to path to HBN dataset\n",
                "    input_path=\"../data/data_corrected.csv\",\n",
                "    # change to desired output path\n",
                "    output_path=\"../data/HBN_data_preprocessed_all.csv\",\n",
                "    # pivot on diagnoses, subcategories, categories or all\n",
                "    by=\"all\",\n",
                "    # add certainty filter if desired\n",
                "    qualifier_filter=None,\n",
                "    viz=True,\n",
                ")"
            ]
        }
    ],
    "metadata": {
        "kernelspec": {
            "display_name": "hbn-preprocess-Wwijhef5-py3.11",
            "language": "python",
            "name": "python3"
        },
        "language_info": {
            "codemirror_mode": {
                "name": "ipython",
                "version": 3
            },
            "file_extension": ".py",
            "mimetype": "text/x-python",
            "name": "python",
            "nbconvert_exporter": "python",
            "pygments_lexer": "ipython3",
            "version": "3.11.2"
        }
    },
    "nbformat": 4,
    "nbformat_minor": 2
}
